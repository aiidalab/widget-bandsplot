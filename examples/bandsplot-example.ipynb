{
 "cells": [
  {
   "cell_type": "markdown",
   "metadata": {},
   "source": [
    "# **A Jupyter widget to plot the bandstructure and density of states (DOS)**\n",
    "\n",
    "<hr style=\"height:1px;border:none;color:#cccccc;background-color:#cccccc;\" />"
   ]
  },
  {
   "cell_type": "markdown",
   "metadata": {},
   "source": [
    "<p style=\"text-align: justify;font-size:15px\">\n",
    "    This is a Jupyter widget, which plots the bandstructure and density of states from given json files.\n",
    "</p>\n",
    "\n",
    "## **Input json files**\n",
    "\n",
    "<p style=\"text-align: justify;font-size:15px\">\n",
    "    On the left, it plots the bandstructures. One can input several bandstructure json files as a list.\n",
    "    The figure on the right shows the density of states, which can only show one DOS plot. The json files\n",
    "    for the bandstructures can be generated from AiiDA with the verdi command:\n",
    "</p>\n",
    "\n",
    "```bash\n",
    "verdi data bands export --format json <IDENTIFIER>\n",
    "```\n",
    "\n",
    "<p style=\"text-align: justify;font-size:15px\">\n",
    "    The json format for the DOS can be checked in the github repository.\n",
    "</p>\n",
    "\n",
    "<a href=\"https://raw.githubusercontent.com/osscar-org/widget-bandsplot/develop/example/data/Si_dos.json\">\n",
    "https://raw.githubusercontent.com/osscar-org/widget-bandsplot/develop/example/data/Si_dos.json</a>"
   ]
  },
  {
   "cell_type": "markdown",
   "metadata": {},
   "source": [
    "paramsparams<p style=\"text-align: justify;font-size:15px\">\n",
    "    Here, one needs to use the json package to load the json file and pass it to the widget.\n",
    "</p>\n",
    "\n",
    "```python\n",
    "with open('./data/Si_bands.json', 'r') as file:\n",
    "    data1 = json.load(file)\n",
    "    \n",
    "with open('./data/Si_dos.json', 'r') as file:\n",
    "    data2 = json.load(file)\n",
    "```\n",
    "\n",
    "## **Fermi energy**\n",
    "\n",
    "<p style=\"text-align: justify;font-size:15px\">\n",
    "    The Fermi energy is reading from the bands and DOS json files. And bandstructure and density \n",
    "    of states plots are aligned to the Fermi energy (shift the Fermi energy to zero).\n",
    "</p>\n",
    "\n",
    "<p style=\"text-align: justify;font-size:15px\">\n",
    "    In the default plot for the DOS, there is a horizontal line to highlight the Fermi level. One \n",
    "    can turn it off by setting plot_fermilevel = False. The legend of the DOS can be turned off\n",
    "    by set show_legend = False.\n",
    "</p>\n",
    "\n",
    "## **Usage of the widget**\n",
    "\n",
    "<p style=\"text-align: justify;font-size:15px\">\n",
    "    Remeber to pass the bandstructure data as a list of json objects. \"energy_range\" sets the \n",
    "    energy range for the plots.\n",
    "</p>\n",
    "\n",
    "###  **Plot both bandstructure and DOS**\n",
    "```python\n",
    "w1 = BandsPlotWidget(bands=[data1], dos=data2, plot_fermilevel = True, energy_range = {\"ymin\": -13.0, \"ymax\": 10.0})\n",
    "display(w1)\n",
    "```"
   ]
  },
  {
   "cell_type": "code",
   "execution_count": 1,
   "metadata": {},
   "outputs": [],
   "source": [
    "from widget_bandsplot import *\n",
    "import json\n",
    "from copy import deepcopy"
   ]
  },
  {
   "cell_type": "code",
   "execution_count": 2,
   "metadata": {},
   "outputs": [],
   "source": [
    "with open('./data/Si_bands.json', 'r') as file:\n",
    "    data1 = json.load(file)\n",
    "    \n",
    "with open('./data/Si_dos.json', 'r') as file:\n",
    "    data2 = json.load(file)\n",
    "    \n",
    "with open('./data/Co_bands.json', 'r') as file:\n",
    "    data3 = json.load(file)\n",
    "    \n",
    "with open('./data/Co_dos.json', 'r') as file:\n",
    "    data4 = json.load(file)"
   ]
  },
  {
   "cell_type": "markdown",
   "metadata": {},
   "source": [
    "## Plot the Si bandstructure and density of states"
   ]
  },
  {
   "cell_type": "code",
   "execution_count": 3,
   "metadata": {},
   "outputs": [
    {
     "data": {
      "application/vnd.jupyter.widget-view+json": {
       "model_id": "bae842de45e6467481cf8c2934474e2a",
       "version_major": 2,
       "version_minor": 0
      },
      "text/plain": [
       "BandsPlotWidget(band_fermienergy=[5.9674316075856], bands=[{'label': '', 'path': [['GAMMA', 'X'], ['X', 'U'], …"
      ]
     },
     "metadata": {},
     "output_type": "display_data"
    }
   ],
   "source": [
    "w1 = BandsPlotWidget(bands=[data1], dos=data2, plot_fermilevel = True, show_legend = True, energy_range = {\"ymin\": -13.0, \"ymax\": 10.0})\n",
    "display(w1)"
   ]
  },
  {
   "cell_type": "markdown",
   "metadata": {},
   "source": [
    "## Plot the Co bandstructure and density of states (spin polarized)"
   ]
  },
  {
   "cell_type": "code",
   "execution_count": 4,
   "metadata": {},
   "outputs": [
    {
     "data": {
      "application/vnd.jupyter.widget-view+json": {
       "model_id": "7c6b7763a76c43d58c90e3b623d9ef36",
       "version_major": 2,
       "version_minor": 0
      },
      "text/plain": [
       "BandsPlotWidget(band_fermienergy=[18.254108240589], bands=[{'label': '', 'path': [['GAMMA', 'Y'], ['Y', 'C_0']…"
      ]
     },
     "metadata": {},
     "output_type": "display_data"
    }
   ],
   "source": [
    "w2 = BandsPlotWidget(bands=[data3], dos=data4, plot_fermilevel = True, show_legend = True, energy_range = {\"ymin\": -10.0, \"ymax\": 10.0})\n",
    "display(w2)"
   ]
  },
  {
   "cell_type": "markdown",
   "metadata": {},
   "source": [
    "## Only plot the density of states for Co"
   ]
  },
  {
   "cell_type": "code",
   "execution_count": 5,
   "metadata": {},
   "outputs": [
    {
     "data": {
      "application/vnd.jupyter.widget-view+json": {
       "model_id": "6cbe62b203034316852bf1e1c3cf4019",
       "version_major": 2,
       "version_minor": 0
      },
      "text/plain": [
       "BandsPlotWidget(dos={'fermi_energy': 18.249471602831, 'dos': [{'x': [8.257, 8.277, 8.297, 8.317, 8.337, 8.357,…"
      ]
     },
     "metadata": {},
     "output_type": "display_data"
    }
   ],
   "source": [
    "w3 = BandsPlotWidget(dos=data4, plot_fermilevel = True, show_legend = True, energy_range = {\"ymin\": -10.0, \"ymax\": 10.0})\n",
    "display(w3)"
   ]
  },
  {
   "cell_type": "markdown",
   "metadata": {},
   "source": [
    "## Only plot the Si bandstructure"
   ]
  },
  {
   "cell_type": "code",
   "execution_count": 6,
   "metadata": {},
   "outputs": [
    {
     "data": {
      "application/vnd.jupyter.widget-view+json": {
       "model_id": "60d7147a114d4e8589049ea94860c69c",
       "version_major": 2,
       "version_minor": 0
      },
      "text/plain": [
       "BandsPlotWidget(band_fermienergy=[18.254108240589], bands=[{'label': '', 'path': [['GAMMA', 'Y'], ['Y', 'C_0']…"
      ]
     },
     "metadata": {},
     "output_type": "display_data"
    }
   ],
   "source": [
    "w4 = BandsPlotWidget(bands=[data3], plot_fermilevel = True, show_legend = True, energy_range = {\"ymin\": -10.0, \"ymax\": 10.0})\n",
    "display(w4)"
   ]
  },
  {
   "cell_type": "code",
   "execution_count": null,
   "metadata": {},
   "outputs": [],
   "source": []
  },
  {
   "cell_type": "code",
   "execution_count": null,
   "metadata": {},
   "outputs": [],
   "source": []
  }
 ],
 "metadata": {
  "kernelspec": {
   "display_name": "Python 3 (ipykernel)",
   "language": "python",
   "name": "python3"
  },
  "language_info": {
   "codemirror_mode": {
    "name": "ipython",
    "version": 3
   },
   "file_extension": ".py",
   "mimetype": "text/x-python",
   "name": "python",
   "nbconvert_exporter": "python",
   "pygments_lexer": "ipython3",
   "version": "3.8.13"
  },
  "voila": {
   "authors": "Dou Du and Giovanni Pizzi"
  }
 },
 "nbformat": 4,
 "nbformat_minor": 4
}
